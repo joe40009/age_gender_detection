{
 "cells": [
  {
   "cell_type": "code",
   "execution_count": 5,
   "metadata": {},
   "outputs": [],
   "source": [
    "import os\n",
    "img_dir = os.listdir('./')\n",
    "img_dir.remove('.ipynb_checkpoints')"
   ]
  },
  {
   "cell_type": "code",
   "execution_count": null,
   "metadata": {},
   "outputs": [],
   "source": [
    "'''age'''"
   ]
  },
  {
   "cell_type": "code",
   "execution_count": 22,
   "metadata": {},
   "outputs": [],
   "source": [
    "imgal = []\n",
    "for imgd in img_dir:\n",
    "    imgp = os.listdir(imgd)\n",
    "    tn = int(len(imgp)*0.9)\n",
    "    for img in imgp[:tn]:\n",
    "        imga = imgd + '/' + img\n",
    "        if imgd.split('_')[0] == '15':\n",
    "            age = 0\n",
    "        if imgd.split('_')[0] == '16':\n",
    "            age = 1\n",
    "        with open('./train_age_test.txt', 'a') as f:\n",
    "            f.write(imga + ' ' + str(age) + '\\n')"
   ]
  },
  {
   "cell_type": "code",
   "execution_count": 23,
   "metadata": {},
   "outputs": [],
   "source": [
    "imgal = []\n",
    "for imgd in img_dir:\n",
    "    imgp = os.listdir(imgd)\n",
    "    tn = int(len(imgp)*0.9)\n",
    "    for img in imgp[tn:]:\n",
    "        imga = imgd + '/' + img\n",
    "        if imgd.split('_')[0] == '15':\n",
    "            age = 0\n",
    "        if imgd.split('_')[0] == '16':\n",
    "            age = 1\n",
    "        with open('./val_age_test.txt', 'a') as f:\n",
    "            f.write(imga + ' ' + str(age) + '\\n')"
   ]
  },
  {
   "cell_type": "code",
   "execution_count": null,
   "metadata": {},
   "outputs": [],
   "source": [
    "'''gender'''"
   ]
  },
  {
   "cell_type": "code",
   "execution_count": 24,
   "metadata": {},
   "outputs": [],
   "source": [
    "imgal = []\n",
    "for imgd in img_dir:\n",
    "    imgp = os.listdir(imgd)\n",
    "    tn = int(len(imgp)*0.9)\n",
    "    for img in imgp[:tn]:\n",
    "        imga = imgd + '/' + img\n",
    "        if imgd.split('_')[1][2] == '1':\n",
    "            age = 0\n",
    "        if imgd.split('_')[1][2] == '2':\n",
    "            age = 1\n",
    "        with open('./train_gender_test.txt', 'a') as f:\n",
    "            f.write(imga + ' ' + str(age) + '\\n')"
   ]
  },
  {
   "cell_type": "code",
   "execution_count": 25,
   "metadata": {},
   "outputs": [],
   "source": [
    "imgal = []\n",
    "for imgd in img_dir:\n",
    "    imgp = os.listdir(imgd)\n",
    "    tn = int(len(imgp)*0.9)\n",
    "    for img in imgp[tn:]:\n",
    "        imga = imgd + '/' + img\n",
    "        if imgd.split('_')[1][2] == '1':\n",
    "            age = 0\n",
    "        if imgd.split('_')[1][2] == '2':\n",
    "            age = 1\n",
    "        with open('./val_gender_test.txt', 'a') as f:\n",
    "            f.write(imga + ' ' + str(age) + '\\n')"
   ]
  }
 ],
 "metadata": {
  "kernelspec": {
   "display_name": "Python 3",
   "language": "python",
   "name": "python3"
  },
  "language_info": {
   "codemirror_mode": {
    "name": "ipython",
    "version": 3
   },
   "file_extension": ".py",
   "mimetype": "text/x-python",
   "name": "python",
   "nbconvert_exporter": "python",
   "pygments_lexer": "ipython3",
   "version": "3.5.2"
  }
 },
 "nbformat": 4,
 "nbformat_minor": 2
}
